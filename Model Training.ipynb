{
 "cells": [
  {
   "cell_type": "code",
   "execution_count": 165,
   "id": "d4a872ac-7724-4aa0-8ee7-92b1432cb17d",
   "metadata": {},
   "outputs": [],
   "source": [
    "import pandas as pd"
   ]
  },
  {
   "cell_type": "code",
   "execution_count": 167,
   "id": "1f6afb15-0a9a-41cf-b56d-ef863bfcd982",
   "metadata": {},
   "outputs": [],
   "source": [
    "df = pd.read_csv(\"Data/spotify_millsongdata.csv\")"
   ]
  },
  {
   "cell_type": "code",
   "execution_count": 168,
   "id": "9c0bbf4d-2199-4c7c-b2c5-6e978874c6b4",
   "metadata": {},
   "outputs": [
    {
     "data": {
      "text/html": [
       "<div>\n",
       "<style scoped>\n",
       "    .dataframe tbody tr th:only-of-type {\n",
       "        vertical-align: middle;\n",
       "    }\n",
       "\n",
       "    .dataframe tbody tr th {\n",
       "        vertical-align: top;\n",
       "    }\n",
       "\n",
       "    .dataframe thead th {\n",
       "        text-align: right;\n",
       "    }\n",
       "</style>\n",
       "<table border=\"1\" class=\"dataframe\">\n",
       "  <thead>\n",
       "    <tr style=\"text-align: right;\">\n",
       "      <th></th>\n",
       "      <th>artist</th>\n",
       "      <th>song</th>\n",
       "      <th>link</th>\n",
       "      <th>text</th>\n",
       "    </tr>\n",
       "  </thead>\n",
       "  <tbody>\n",
       "    <tr>\n",
       "      <th>0</th>\n",
       "      <td>ABBA</td>\n",
       "      <td>Ahe's My Kind Of Girl</td>\n",
       "      <td>/a/abba/ahes+my+kind+of+girl_20598417.html</td>\n",
       "      <td>Look at her face, it's a wonderful face  \\r\\nA...</td>\n",
       "    </tr>\n",
       "    <tr>\n",
       "      <th>1</th>\n",
       "      <td>ABBA</td>\n",
       "      <td>Andante, Andante</td>\n",
       "      <td>/a/abba/andante+andante_20002708.html</td>\n",
       "      <td>Take it easy with me, please  \\r\\nTouch me gen...</td>\n",
       "    </tr>\n",
       "    <tr>\n",
       "      <th>2</th>\n",
       "      <td>ABBA</td>\n",
       "      <td>As Good As New</td>\n",
       "      <td>/a/abba/as+good+as+new_20003033.html</td>\n",
       "      <td>I'll never know why I had to go  \\r\\nWhy I had...</td>\n",
       "    </tr>\n",
       "    <tr>\n",
       "      <th>3</th>\n",
       "      <td>ABBA</td>\n",
       "      <td>Bang</td>\n",
       "      <td>/a/abba/bang_20598415.html</td>\n",
       "      <td>Making somebody happy is a question of give an...</td>\n",
       "    </tr>\n",
       "    <tr>\n",
       "      <th>4</th>\n",
       "      <td>ABBA</td>\n",
       "      <td>Bang-A-Boomerang</td>\n",
       "      <td>/a/abba/bang+a+boomerang_20002668.html</td>\n",
       "      <td>Making somebody happy is a question of give an...</td>\n",
       "    </tr>\n",
       "  </tbody>\n",
       "</table>\n",
       "</div>"
      ],
      "text/plain": [
       "  artist                   song                                        link  \\\n",
       "0   ABBA  Ahe's My Kind Of Girl  /a/abba/ahes+my+kind+of+girl_20598417.html   \n",
       "1   ABBA       Andante, Andante       /a/abba/andante+andante_20002708.html   \n",
       "2   ABBA         As Good As New        /a/abba/as+good+as+new_20003033.html   \n",
       "3   ABBA                   Bang                  /a/abba/bang_20598415.html   \n",
       "4   ABBA       Bang-A-Boomerang      /a/abba/bang+a+boomerang_20002668.html   \n",
       "\n",
       "                                                text  \n",
       "0  Look at her face, it's a wonderful face  \\r\\nA...  \n",
       "1  Take it easy with me, please  \\r\\nTouch me gen...  \n",
       "2  I'll never know why I had to go  \\r\\nWhy I had...  \n",
       "3  Making somebody happy is a question of give an...  \n",
       "4  Making somebody happy is a question of give an...  "
      ]
     },
     "execution_count": 168,
     "metadata": {},
     "output_type": "execute_result"
    }
   ],
   "source": [
    "df.head(5)"
   ]
  },
  {
   "cell_type": "code",
   "execution_count": 171,
   "id": "c557bae2-fbbd-4f63-8d27-6a0265ffface",
   "metadata": {},
   "outputs": [
    {
     "data": {
      "text/html": [
       "<div>\n",
       "<style scoped>\n",
       "    .dataframe tbody tr th:only-of-type {\n",
       "        vertical-align: middle;\n",
       "    }\n",
       "\n",
       "    .dataframe tbody tr th {\n",
       "        vertical-align: top;\n",
       "    }\n",
       "\n",
       "    .dataframe thead th {\n",
       "        text-align: right;\n",
       "    }\n",
       "</style>\n",
       "<table border=\"1\" class=\"dataframe\">\n",
       "  <thead>\n",
       "    <tr style=\"text-align: right;\">\n",
       "      <th></th>\n",
       "      <th>artist</th>\n",
       "      <th>song</th>\n",
       "      <th>link</th>\n",
       "      <th>text</th>\n",
       "    </tr>\n",
       "  </thead>\n",
       "  <tbody>\n",
       "    <tr>\n",
       "      <th>57645</th>\n",
       "      <td>Ziggy Marley</td>\n",
       "      <td>Good Old Days</td>\n",
       "      <td>/z/ziggy+marley/good+old+days_10198588.html</td>\n",
       "      <td>Irie days come on play  \\r\\nLet the angels fly...</td>\n",
       "    </tr>\n",
       "    <tr>\n",
       "      <th>57646</th>\n",
       "      <td>Ziggy Marley</td>\n",
       "      <td>Hand To Mouth</td>\n",
       "      <td>/z/ziggy+marley/hand+to+mouth_20531167.html</td>\n",
       "      <td>Power to the workers  \\r\\nMore power  \\r\\nPowe...</td>\n",
       "    </tr>\n",
       "    <tr>\n",
       "      <th>57647</th>\n",
       "      <td>Zwan</td>\n",
       "      <td>Come With Me</td>\n",
       "      <td>/z/zwan/come+with+me_20148981.html</td>\n",
       "      <td>all you need  \\r\\nis something i'll believe  \\...</td>\n",
       "    </tr>\n",
       "    <tr>\n",
       "      <th>57648</th>\n",
       "      <td>Zwan</td>\n",
       "      <td>Desire</td>\n",
       "      <td>/z/zwan/desire_20148986.html</td>\n",
       "      <td>northern star  \\r\\nam i frightened  \\r\\nwhere ...</td>\n",
       "    </tr>\n",
       "    <tr>\n",
       "      <th>57649</th>\n",
       "      <td>Zwan</td>\n",
       "      <td>Heartsong</td>\n",
       "      <td>/z/zwan/heartsong_20148991.html</td>\n",
       "      <td>come in  \\r\\nmake yourself at home  \\r\\ni'm a ...</td>\n",
       "    </tr>\n",
       "  </tbody>\n",
       "</table>\n",
       "</div>"
      ],
      "text/plain": [
       "             artist           song  \\\n",
       "57645  Ziggy Marley  Good Old Days   \n",
       "57646  Ziggy Marley  Hand To Mouth   \n",
       "57647          Zwan   Come With Me   \n",
       "57648          Zwan         Desire   \n",
       "57649          Zwan      Heartsong   \n",
       "\n",
       "                                              link  \\\n",
       "57645  /z/ziggy+marley/good+old+days_10198588.html   \n",
       "57646  /z/ziggy+marley/hand+to+mouth_20531167.html   \n",
       "57647           /z/zwan/come+with+me_20148981.html   \n",
       "57648                 /z/zwan/desire_20148986.html   \n",
       "57649              /z/zwan/heartsong_20148991.html   \n",
       "\n",
       "                                                    text  \n",
       "57645  Irie days come on play  \\r\\nLet the angels fly...  \n",
       "57646  Power to the workers  \\r\\nMore power  \\r\\nPowe...  \n",
       "57647  all you need  \\r\\nis something i'll believe  \\...  \n",
       "57648  northern star  \\r\\nam i frightened  \\r\\nwhere ...  \n",
       "57649  come in  \\r\\nmake yourself at home  \\r\\ni'm a ...  "
      ]
     },
     "execution_count": 171,
     "metadata": {},
     "output_type": "execute_result"
    }
   ],
   "source": [
    "df.tail(5)"
   ]
  },
  {
   "cell_type": "code",
   "execution_count": 173,
   "id": "1c688d94-c630-45a3-b808-d4667f96bd2f",
   "metadata": {},
   "outputs": [
    {
     "data": {
      "text/plain": [
       "(57650, 4)"
      ]
     },
     "execution_count": 173,
     "metadata": {},
     "output_type": "execute_result"
    }
   ],
   "source": [
    "df.shape"
   ]
  },
  {
   "cell_type": "code",
   "execution_count": 175,
   "id": "9eb4a73e-878d-45ca-920c-21402c31e926",
   "metadata": {},
   "outputs": [
    {
     "data": {
      "text/plain": [
       "artist    0\n",
       "song      0\n",
       "link      0\n",
       "text      0\n",
       "dtype: int64"
      ]
     },
     "execution_count": 175,
     "metadata": {},
     "output_type": "execute_result"
    }
   ],
   "source": [
    "df.isnull().sum()"
   ]
  },
  {
   "cell_type": "code",
   "execution_count": 177,
   "id": "770c6a85-34bf-4832-a346-9ac0be8fd9bf",
   "metadata": {},
   "outputs": [],
   "source": [
    "df = df.sample(5000).drop('link', axis=1).reset_index(drop=True)"
   ]
  },
  {
   "cell_type": "code",
   "execution_count": 179,
   "id": "7c803fa3-231a-4ffd-ad04-773f13c405cd",
   "metadata": {},
   "outputs": [
    {
     "data": {
      "text/html": [
       "<div>\n",
       "<style scoped>\n",
       "    .dataframe tbody tr th:only-of-type {\n",
       "        vertical-align: middle;\n",
       "    }\n",
       "\n",
       "    .dataframe tbody tr th {\n",
       "        vertical-align: top;\n",
       "    }\n",
       "\n",
       "    .dataframe thead th {\n",
       "        text-align: right;\n",
       "    }\n",
       "</style>\n",
       "<table border=\"1\" class=\"dataframe\">\n",
       "  <thead>\n",
       "    <tr style=\"text-align: right;\">\n",
       "      <th></th>\n",
       "      <th>artist</th>\n",
       "      <th>song</th>\n",
       "      <th>text</th>\n",
       "    </tr>\n",
       "  </thead>\n",
       "  <tbody>\n",
       "    <tr>\n",
       "      <th>0</th>\n",
       "      <td>Roxy Music</td>\n",
       "      <td>Prairie Rose</td>\n",
       "      <td>Texas That's where I  \\r\\nBelong  \\r\\nIt seems...</td>\n",
       "    </tr>\n",
       "    <tr>\n",
       "      <th>1</th>\n",
       "      <td>Ingrid Michaelson</td>\n",
       "      <td>Little Romance</td>\n",
       "      <td>You're in the mood for love  \\r\\nYou're in the...</td>\n",
       "    </tr>\n",
       "    <tr>\n",
       "      <th>2</th>\n",
       "      <td>Moody Blues</td>\n",
       "      <td>Send Me No Wine</td>\n",
       "      <td>Send me no wine  \\r\\nTo make an invitation.  \\...</td>\n",
       "    </tr>\n",
       "    <tr>\n",
       "      <th>3</th>\n",
       "      <td>Kinks</td>\n",
       "      <td>Berkeley Mews</td>\n",
       "      <td>The leaves of brown came falling through the v...</td>\n",
       "    </tr>\n",
       "    <tr>\n",
       "      <th>4</th>\n",
       "      <td>Nirvana</td>\n",
       "      <td>Beeswax</td>\n",
       "      <td>Why doesn't she need him for a father?  \\r\\nNo...</td>\n",
       "    </tr>\n",
       "    <tr>\n",
       "      <th>5</th>\n",
       "      <td>P!nk</td>\n",
       "      <td>Centerfold</td>\n",
       "      <td>(can you turn it up please, just a tiny bit, t...</td>\n",
       "    </tr>\n",
       "    <tr>\n",
       "      <th>6</th>\n",
       "      <td>ABBA</td>\n",
       "      <td>Our Last Summer</td>\n",
       "      <td>The summer air was soft and warm  \\r\\nThe feel...</td>\n",
       "    </tr>\n",
       "    <tr>\n",
       "      <th>7</th>\n",
       "      <td>ZZ Top</td>\n",
       "      <td>Fuzzbox Voodoo</td>\n",
       "      <td>I went down with the fuzzbox  \\r\\nGrindin' a p...</td>\n",
       "    </tr>\n",
       "    <tr>\n",
       "      <th>8</th>\n",
       "      <td>Green Day</td>\n",
       "      <td>Green Day</td>\n",
       "      <td>A small cloud has fallen  \\r\\nThe white mist h...</td>\n",
       "    </tr>\n",
       "    <tr>\n",
       "      <th>9</th>\n",
       "      <td>Tom T. Hall</td>\n",
       "      <td>I Like Beer</td>\n",
       "      <td>In some of my songs I have casually mentioned ...</td>\n",
       "    </tr>\n",
       "  </tbody>\n",
       "</table>\n",
       "</div>"
      ],
      "text/plain": [
       "              artist             song  \\\n",
       "0         Roxy Music     Prairie Rose   \n",
       "1  Ingrid Michaelson   Little Romance   \n",
       "2        Moody Blues  Send Me No Wine   \n",
       "3              Kinks    Berkeley Mews   \n",
       "4            Nirvana          Beeswax   \n",
       "5               P!nk       Centerfold   \n",
       "6               ABBA  Our Last Summer   \n",
       "7             ZZ Top   Fuzzbox Voodoo   \n",
       "8          Green Day        Green Day   \n",
       "9        Tom T. Hall      I Like Beer   \n",
       "\n",
       "                                                text  \n",
       "0  Texas That's where I  \\r\\nBelong  \\r\\nIt seems...  \n",
       "1  You're in the mood for love  \\r\\nYou're in the...  \n",
       "2  Send me no wine  \\r\\nTo make an invitation.  \\...  \n",
       "3  The leaves of brown came falling through the v...  \n",
       "4  Why doesn't she need him for a father?  \\r\\nNo...  \n",
       "5  (can you turn it up please, just a tiny bit, t...  \n",
       "6  The summer air was soft and warm  \\r\\nThe feel...  \n",
       "7  I went down with the fuzzbox  \\r\\nGrindin' a p...  \n",
       "8  A small cloud has fallen  \\r\\nThe white mist h...  \n",
       "9  In some of my songs I have casually mentioned ...  "
      ]
     },
     "execution_count": 179,
     "metadata": {},
     "output_type": "execute_result"
    }
   ],
   "source": [
    "df.head(10)"
   ]
  },
  {
   "cell_type": "code",
   "execution_count": 181,
   "id": "3f43c875-654e-449a-b225-05d1d6330213",
   "metadata": {},
   "outputs": [
    {
     "data": {
      "text/plain": [
       "\"Texas That's where I  \\r\\nBelong  \\r\\nIt seems to me  \\r\\nTexas Lonesome star  \\r\\nShine on  \\r\\nThe big country  \\r\\nTexas With open skies  \\r\\nAnd you  \\r\\nFor company  \\r\\nTexas Oh prairie rose  \\r\\nHow happy  \\r\\nI should be  \\r\\n  \\r\\nHey hey You can take it from me  \\r\\nHey hey I'll be coming, you'll see  \\r\\nHey hey Oh what a state to be in  \\r\\nHey hey You're tantalizing me  \\r\\nTexas I will compose  \\r\\nIn fancy rhyme  \\r\\nOr just plain prose  \\r\\nTexas A song of praise  \\r\\n  \\r\\nTo you  \\r\\nPrairie rose  \\r\\nTexas Though I'm not sure  \\r\\nI can explain  \\r\\nYour strange allure  \\r\\nTexas Prairie rose  \\r\\nA crown of thorns  \\r\\nA scented flower  \\r\\n  \\r\\nHey hey I'd better leave right away  \\r\\nHey hey I can hear you calling me  \\r\\nPrairie rose\\r\\n\\r\\n\""
      ]
     },
     "execution_count": 181,
     "metadata": {},
     "output_type": "execute_result"
    }
   ],
   "source": [
    "df['text'][0]"
   ]
  },
  {
   "cell_type": "code",
   "execution_count": null,
   "id": "6c911ade-db06-4f2d-8f29-124a446c8900",
   "metadata": {},
   "outputs": [],
   "source": []
  },
  {
   "cell_type": "code",
   "execution_count": 183,
   "id": "8be3b2ad-b39a-4afd-819f-c0903b79275a",
   "metadata": {},
   "outputs": [
    {
     "data": {
      "text/plain": [
       "(5000, 3)"
      ]
     },
     "execution_count": 183,
     "metadata": {},
     "output_type": "execute_result"
    }
   ],
   "source": [
    "df.shape"
   ]
  },
  {
   "cell_type": "markdown",
   "id": "92060e0f-d9a3-4c94-9a20-7723779d02a8",
   "metadata": {},
   "source": [
    "Text Cleaning/ Text Preprocessing"
   ]
  },
  {
   "cell_type": "code",
   "execution_count": 186,
   "id": "9222f6a5-a3e2-467d-92b1-a2b2e0c62114",
   "metadata": {},
   "outputs": [],
   "source": [
    "df['text'] = df['text'].str.lower().replace(r'\\w\\s', '').replace(r'\\n', '', regex=True)"
   ]
  },
  {
   "cell_type": "code",
   "execution_count": 188,
   "id": "5cf2a15c-89b7-40d0-8d3b-39c70ccb93a7",
   "metadata": {},
   "outputs": [
    {
     "data": {
      "text/html": [
       "<div>\n",
       "<style scoped>\n",
       "    .dataframe tbody tr th:only-of-type {\n",
       "        vertical-align: middle;\n",
       "    }\n",
       "\n",
       "    .dataframe tbody tr th {\n",
       "        vertical-align: top;\n",
       "    }\n",
       "\n",
       "    .dataframe thead th {\n",
       "        text-align: right;\n",
       "    }\n",
       "</style>\n",
       "<table border=\"1\" class=\"dataframe\">\n",
       "  <thead>\n",
       "    <tr style=\"text-align: right;\">\n",
       "      <th></th>\n",
       "      <th>artist</th>\n",
       "      <th>song</th>\n",
       "      <th>text</th>\n",
       "    </tr>\n",
       "  </thead>\n",
       "  <tbody>\n",
       "    <tr>\n",
       "      <th>4995</th>\n",
       "      <td>Fifth Harmony</td>\n",
       "      <td>Top Down</td>\n",
       "      <td>[hook]  \\rblaze it up and we'll be cruisin'  \\...</td>\n",
       "    </tr>\n",
       "    <tr>\n",
       "      <th>4996</th>\n",
       "      <td>Backstreet Boys</td>\n",
       "      <td>Helpless</td>\n",
       "      <td>i wake up every morning and see your face  \\rl...</td>\n",
       "    </tr>\n",
       "    <tr>\n",
       "      <th>4997</th>\n",
       "      <td>Steve Miller Band</td>\n",
       "      <td>Jungle Love</td>\n",
       "      <td>i met you on somebody's island  \\ryou thought ...</td>\n",
       "    </tr>\n",
       "    <tr>\n",
       "      <th>4998</th>\n",
       "      <td>The Script</td>\n",
       "      <td>You won't feel a thing</td>\n",
       "      <td>i've been kicked right down  \\ri've been spat ...</td>\n",
       "    </tr>\n",
       "    <tr>\n",
       "      <th>4999</th>\n",
       "      <td>Wyclef Jean</td>\n",
       "      <td>The Streets Are Like A Jungle</td>\n",
       "      <td>one, two...  \\rone, two-one,two...  \\ryo!  \\r ...</td>\n",
       "    </tr>\n",
       "  </tbody>\n",
       "</table>\n",
       "</div>"
      ],
      "text/plain": [
       "                 artist                           song  \\\n",
       "4995      Fifth Harmony                       Top Down   \n",
       "4996    Backstreet Boys                       Helpless   \n",
       "4997  Steve Miller Band                    Jungle Love   \n",
       "4998         The Script         You won't feel a thing   \n",
       "4999        Wyclef Jean  The Streets Are Like A Jungle   \n",
       "\n",
       "                                                   text  \n",
       "4995  [hook]  \\rblaze it up and we'll be cruisin'  \\...  \n",
       "4996  i wake up every morning and see your face  \\rl...  \n",
       "4997  i met you on somebody's island  \\ryou thought ...  \n",
       "4998  i've been kicked right down  \\ri've been spat ...  \n",
       "4999  one, two...  \\rone, two-one,two...  \\ryo!  \\r ...  "
      ]
     },
     "execution_count": 188,
     "metadata": {},
     "output_type": "execute_result"
    }
   ],
   "source": [
    "df.tail(5)"
   ]
  },
  {
   "cell_type": "code",
   "execution_count": 190,
   "id": "98756f40-9f33-4dec-8173-4ab919b94440",
   "metadata": {},
   "outputs": [],
   "source": [
    "import re\n",
    "\n",
    "def token(txt):\n",
    "    return re.findall(r'\\b\\w+\\b', txt.lower())  # Extracts words properly\n"
   ]
  },
  {
   "cell_type": "code",
   "execution_count": 192,
   "id": "c7693712-232a-479d-94d7-59407af4b71d",
   "metadata": {},
   "outputs": [
    {
     "data": {
      "text/plain": [
       "['you', 'are', 'beautiful', 'beauty']"
      ]
     },
     "execution_count": 192,
     "metadata": {},
     "output_type": "execute_result"
    }
   ],
   "source": [
    "token(\"you are beautiful, beauty\")"
   ]
  },
  {
   "cell_type": "code",
   "execution_count": 194,
   "id": "524313a3-03bf-4232-9c9b-cb35747ffc1a",
   "metadata": {},
   "outputs": [
    {
     "data": {
      "text/plain": [
       "0       [texas, that, s, where, i, belong, it, seems, ...\n",
       "1       [you, re, in, the, mood, for, love, you, re, i...\n",
       "2       [send, me, no, wine, to, make, an, invitation,...\n",
       "3       [the, leaves, of, brown, came, falling, throug...\n",
       "4       [why, doesn, t, she, need, him, for, a, father...\n",
       "                              ...                        \n",
       "4995    [hook, blaze, it, up, and, we, ll, be, cruisin...\n",
       "4996    [i, wake, up, every, morning, and, see, your, ...\n",
       "4997    [i, met, you, on, somebody, s, island, you, th...\n",
       "4998    [i, ve, been, kicked, right, down, i, ve, been...\n",
       "4999    [one, two, one, two, one, two, yo, hey, yo, th...\n",
       "Name: text, Length: 5000, dtype: object"
      ]
     },
     "execution_count": 194,
     "metadata": {},
     "output_type": "execute_result"
    }
   ],
   "source": [
    "df['text'].apply(lambda x: token(x))"
   ]
  },
  {
   "cell_type": "code",
   "execution_count": 196,
   "id": "db425a10-31f6-4f04-82ae-9376b0e70c33",
   "metadata": {},
   "outputs": [],
   "source": [
    "from sklearn.feature_extraction.text import TfidfVectorizer\n",
    "from sklearn.metrics.pairwise import cosine_similarity"
   ]
  },
  {
   "cell_type": "code",
   "execution_count": 198,
   "id": "38642500-019a-4c18-89df-28dd4a6d607a",
   "metadata": {},
   "outputs": [],
   "source": [
    "tfid = TfidfVectorizer(analyzer='word', stop_words='english')"
   ]
  },
  {
   "cell_type": "code",
   "execution_count": 200,
   "id": "e7a6f45d-6099-4782-9239-9be2815fc73d",
   "metadata": {},
   "outputs": [],
   "source": [
    "matrix=tfid.fit_transform(df['text'])"
   ]
  },
  {
   "cell_type": "code",
   "execution_count": 201,
   "id": "7be85c33-d4df-4683-aa4f-57a761adcea0",
   "metadata": {},
   "outputs": [],
   "source": [
    "similer = cosine_similarity(matrix)"
   ]
  },
  {
   "cell_type": "code",
   "execution_count": 203,
   "id": "c9928560-d57c-4c3e-b6f9-54b360a0b8c8",
   "metadata": {},
   "outputs": [
    {
     "data": {
      "text/plain": [
       "array([1.        , 0.00250636, 0.01057339, ..., 0.00113416, 0.00674435,\n",
       "       0.08825722])"
      ]
     },
     "execution_count": 203,
     "metadata": {},
     "output_type": "execute_result"
    }
   ],
   "source": [
    "similer[0]"
   ]
  },
  {
   "cell_type": "code",
   "execution_count": 208,
   "id": "dc2baa07-1bc9-42a0-a984-c70d7cb249c0",
   "metadata": {},
   "outputs": [
    {
     "data": {
      "text/plain": [
       "4995"
      ]
     },
     "execution_count": 208,
     "metadata": {},
     "output_type": "execute_result"
    }
   ],
   "source": [
    "df[df['song']=='Top Down'].index[0]"
   ]
  },
  {
   "cell_type": "markdown",
   "id": "6f8de0d4-bdf7-4837-ad43-823009a9d95e",
   "metadata": {},
   "source": [
    "Recommender Function"
   ]
  },
  {
   "cell_type": "code",
   "execution_count": 219,
   "id": "e861c277-9192-4acf-826f-86a9609fbc81",
   "metadata": {},
   "outputs": [],
   "source": [
    "def recommender(song_name):\n",
    "    idx = df[df['song']==song_name].index[0]\n",
    "    distance = sorted(list(enumerate(similer[idx])), reverse=True, key = lambda x:x[1])\n",
    "    song = []\n",
    "    for s_id in distance[1:21]:\n",
    "        song.append(df.iloc[s_id[0]].song)\n",
    "    return song"
   ]
  },
  {
   "cell_type": "code",
   "execution_count": 221,
   "id": "30607d49-5450-4838-87be-f25dd6456149",
   "metadata": {},
   "outputs": [
    {
     "data": {
      "text/plain": [
       "[\"Don't Cry No More\",\n",
       " 'I Was Made To Love Him',\n",
       " 'I Can Do Better',\n",
       " \"Ain't That Peculiar (Demo)\",\n",
       " 'Hey You',\n",
       " 'Lost Highway',\n",
       " 'Hey Hey',\n",
       " 'Walking The Dog',\n",
       " 'All I Ever Wanted',\n",
       " 'Loaded',\n",
       " 'I Love This Town',\n",
       " 'No Money Down',\n",
       " 'Into The Nightlife',\n",
       " 'Prairie Rose',\n",
       " 'Learning How To Smile',\n",
       " 'The Dividing Line',\n",
       " 'In The City',\n",
       " 'Blackjack',\n",
       " \"I Can't See My Feeling\",\n",
       " 'Al Genina (Leave The Light On)']"
      ]
     },
     "execution_count": 221,
     "metadata": {},
     "output_type": "execute_result"
    }
   ],
   "source": [
    "recommender(\"Top Down\")"
   ]
  },
  {
   "cell_type": "code",
   "execution_count": 223,
   "id": "a6773a38-e040-4859-b1fa-f45893738b9e",
   "metadata": {},
   "outputs": [],
   "source": [
    "import pickle"
   ]
  },
  {
   "cell_type": "code",
   "execution_count": 227,
   "id": "9df3de32-339f-4ad1-894a-1abfcc3abd42",
   "metadata": {},
   "outputs": [],
   "source": [
    "pickle.dump(similer, open(\"similarity\", \"wb\"))"
   ]
  },
  {
   "cell_type": "code",
   "execution_count": 229,
   "id": "2e22c1a8-541f-4ce3-baef-270ab30e3991",
   "metadata": {},
   "outputs": [],
   "source": [
    "pickle.dump(df, open(\"df\", \"wb\"))"
   ]
  },
  {
   "cell_type": "code",
   "execution_count": null,
   "id": "19ec0a50-c7d3-4885-a63b-8219d7c79c7f",
   "metadata": {},
   "outputs": [],
   "source": []
  }
 ],
 "metadata": {
  "kernelspec": {
   "display_name": "Python [conda env:base] *",
   "language": "python",
   "name": "conda-base-py"
  },
  "language_info": {
   "codemirror_mode": {
    "name": "ipython",
    "version": 3
   },
   "file_extension": ".py",
   "mimetype": "text/x-python",
   "name": "python",
   "nbconvert_exporter": "python",
   "pygments_lexer": "ipython3",
   "version": "3.12.7"
  }
 },
 "nbformat": 4,
 "nbformat_minor": 5
}
